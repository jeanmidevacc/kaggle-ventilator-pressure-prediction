{
 "cells": [
  {
   "cell_type": "code",
   "execution_count": 6,
   "id": "d482bf87-1367-4529-abb0-d9169a5474d8",
   "metadata": {},
   "outputs": [],
   "source": [
    "from datetime import datetime\n",
    "import random \n",
    "import pandas as pd"
   ]
  },
  {
   "cell_type": "code",
   "execution_count": 3,
   "id": "2ce30f49-bcf8-4e79-9f2f-a007f582a8fe",
   "metadata": {},
   "outputs": [],
   "source": [
    "folder = \"./data/20210921/\"\n",
    "dfp_train = pd.read_csv(folder + \"train.csv\")\n",
    "dfp_test = pd.read_csv(folder + \"test.csv\")"
   ]
  },
  {
   "cell_type": "code",
   "execution_count": 4,
   "id": "c8a18c52-5e1a-4f2c-8229-8a981ca5a3b2",
   "metadata": {},
   "outputs": [
    {
     "data": {
      "text/plain": [
       "27"
      ]
     },
     "execution_count": 4,
     "metadata": {},
     "output_type": "execute_result"
    }
   ],
   "source": [
    "# build function to generate random output\n",
    "def get_random(row, min_pressure, max_pressure):\n",
    "    return random.randrange(int(min_pressure), int(max_pressure))\n",
    "\n",
    "min_pressure, max_pressure = dfp_train[\"pressure\"].min(), dfp_train[\"pressure\"].max()\n",
    "get_random(None, min_pressure, max_pressure)"
   ]
  },
  {
   "cell_type": "code",
   "execution_count": 5,
   "id": "644766c4-6cc4-44e4-aba5-98406a24802d",
   "metadata": {},
   "outputs": [],
   "source": [
    "dfp_submissions = dfp_test.copy()\n",
    "dfp_submissions[\"pressure\"] = dfp_submissions.apply(lambda row: get_random(row, min_pressure, max_pressure), axis=1)\n",
    "dfp_submissions = dfp_submissions[[\"id\", \"pressure\"]]"
   ]
  },
  {
   "cell_type": "code",
   "execution_count": 8,
   "id": "ae03c5f7-69a2-45ec-b4c2-67388e76f1e0",
   "metadata": {},
   "outputs": [],
   "source": [
    "dfp_submissions.to_csv(f\"./data/submissions/{datetime.utcnow().strftime('%Y%m%d_%H%M.csv')}\", index=None)"
   ]
  },
  {
   "cell_type": "code",
   "execution_count": null,
   "id": "29b2b6d3-f9f0-43d9-a8ee-a3a143b1281f",
   "metadata": {},
   "outputs": [],
   "source": []
  },
  {
   "cell_type": "code",
   "execution_count": null,
   "id": "4444daa1-0791-4366-b2b0-c0525d4beff9",
   "metadata": {},
   "outputs": [],
   "source": []
  }
 ],
 "metadata": {
  "kernelspec": {
   "display_name": "dataexploration",
   "language": "python",
   "name": "dataexploration"
  },
  "language_info": {
   "codemirror_mode": {
    "name": "ipython",
    "version": 3
   },
   "file_extension": ".py",
   "mimetype": "text/x-python",
   "name": "python",
   "nbconvert_exporter": "python",
   "pygments_lexer": "ipython3",
   "version": "3.6.12"
  }
 },
 "nbformat": 4,
 "nbformat_minor": 5
}
