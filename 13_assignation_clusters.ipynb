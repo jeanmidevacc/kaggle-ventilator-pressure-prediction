{
 "cells": [
  {
   "cell_type": "code",
   "execution_count": 49,
   "id": "08ff0255-8a25-480d-bc57-13c96ac459d3",
   "metadata": {},
   "outputs": [],
   "source": [
    "from tqdm import tqdm\n",
    "\n",
    "import pandas as pd\n",
    "import numpy as np\n",
    "from sklearn.metrics.pairwise import euclidean_distances\n",
    "from dtaidistance import dtw\n"
   ]
  },
  {
   "cell_type": "code",
   "execution_count": 50,
   "id": "fbdf3314-b5f7-493f-9f29-a840ca08a0d2",
   "metadata": {},
   "outputs": [
    {
     "name": "stdout",
     "output_type": "stream",
     "text": [
      "6036000\n"
     ]
    }
   ],
   "source": [
    "folder_cluster = \"./data/clusters/\"\n",
    "clusters_type = [\"cluster_ed\",\"cluster_dtw\"]\n",
    "\n",
    "folder = \"./data/20210921/\"\n",
    "dfp_train = pd.read_csv(folder + \"train.csv\")\n",
    "dfp_test = pd.read_csv(folder + \"test.csv\")\n",
    "print(len(dfp_train))"
   ]
  },
  {
   "cell_type": "code",
   "execution_count": 51,
   "id": "adf14abb-4e71-4e2b-b8b3-5f04e7b18cd7",
   "metadata": {},
   "outputs": [],
   "source": [
    "def get_clusters(dfp_breath_id, dfp_clusters, cluster_type):\n",
    "    u_in = dfp_breath_id[\"u_in\"].tolist()\n",
    "    X = np.concatenate((np.array([u_in]), np.array(dfp_clusters)), axis=0)\n",
    "    if cluster_type == \"cluster_ed\":\n",
    "        distance_X = euclidean_distances(X, X)\n",
    "    else:\n",
    "        distance_X = dtw.distance_matrix_fast(X)\n",
    "\n",
    "    cluster_idx_sorted = np.argsort(distance_X[0,1:]) - 1\n",
    "    closest_cluster = dfp_clusters.index[cluster_idx_sorted[0]]\n",
    "    farest_cluster = dfp_clusters.index[cluster_idx_sorted[-1]]\n",
    "    \n",
    "    return closest_cluster, farest_cluster"
   ]
  },
  {
   "cell_type": "code",
   "execution_count": 52,
   "id": "9516e174-0fd3-4c82-a870-1f4823f0ff70",
   "metadata": {},
   "outputs": [
    {
     "name": "stderr",
     "output_type": "stream",
     "text": [
      "  0%|          | 14/75450 [00:00<09:05, 138.27it/s]"
     ]
    },
    {
     "name": "stdout",
     "output_type": "stream",
     "text": [
      "cluster_ed\n",
      "Work on the training data\n"
     ]
    },
    {
     "name": "stderr",
     "output_type": "stream",
     "text": [
      "100%|██████████| 75450/75450 [07:12<00:00, 174.33it/s]\n",
      "  0%|          | 24/50300 [00:00<03:36, 232.31it/s]"
     ]
    },
    {
     "name": "stdout",
     "output_type": "stream",
     "text": [
      "Work on the testing data\n"
     ]
    },
    {
     "name": "stderr",
     "output_type": "stream",
     "text": [
      "100%|██████████| 50300/50300 [03:34<00:00, 234.52it/s]\n",
      "  0%|          | 1/75450 [00:00<2:07:06,  9.89it/s]"
     ]
    },
    {
     "name": "stdout",
     "output_type": "stream",
     "text": [
      "cluster_dtw\n",
      "Work on the training data\n"
     ]
    },
    {
     "name": "stderr",
     "output_type": "stream",
     "text": [
      "100%|██████████| 75450/75450 [2:22:49<00:00,  8.80it/s]  \n",
      "  0%|          | 1/50300 [00:00<1:25:06,  9.85it/s]"
     ]
    },
    {
     "name": "stdout",
     "output_type": "stream",
     "text": [
      "Work on the testing data\n"
     ]
    },
    {
     "name": "stderr",
     "output_type": "stream",
     "text": [
      "100%|██████████| 50300/50300 [1:33:57<00:00,  8.92it/s]\n"
     ]
    }
   ],
   "source": [
    "for cluster_type in clusters_type:\n",
    "    print(cluster_type)\n",
    "# for cluster_type in [\"cluster_dtw\"]:\n",
    "    \n",
    "    dfp_clusters = pd.read_csv(folder_cluster + cluster_type + \".csv\", index_col=0)\n",
    "    \n",
    "    print('Work on the training data')\n",
    "    data = []\n",
    "    for breath_id in tqdm(dfp_train[\"breath_id\"].unique()):\n",
    "        dfp_breath_id = dfp_train[dfp_train[\"breath_id\"] == breath_id].sort_values([\"time_step\"])\n",
    "        closest_cluster, farest_cluster = get_clusters(dfp_breath_id, dfp_clusters, cluster_type)\n",
    "        data.append([breath_id, closest_cluster, farest_cluster])\n",
    "\n",
    "    dfp_breath_id_assignation_train = pd.DataFrame(data, columns=[\"breath_id\", \"closest_cluster\", \"farest_cluster\"])\n",
    "    dfp_breath_id_assignation_train.to_csv(folder_cluster + f\"train_{cluster_type}_assignations.csv\")\n",
    "    \n",
    "    print('Work on the testing data')\n",
    "    data = []\n",
    "    for breath_id in tqdm(dfp_test[\"breath_id\"].unique()):\n",
    "        dfp_breath_id = dfp_test[dfp_test[\"breath_id\"] == breath_id].sort_values([\"time_step\"])\n",
    "        closest_cluster, farest_cluster = get_clusters(dfp_breath_id, dfp_clusters, cluster_type)\n",
    "        data.append([breath_id, closest_cluster, farest_cluster])\n",
    "\n",
    "    dfp_breath_id_assignation_test= pd.DataFrame(data, columns=[\"breath_id\", \"closest_cluster\", \"farest_cluster\"])\n",
    "    dfp_breath_id_assignation_test.to_csv(folder_cluster + f\"test_{cluster_type}_assignations.csv\")"
   ]
  },
  {
   "cell_type": "code",
   "execution_count": 44,
   "id": "9f7c19d9-fe90-4ab1-998d-489bb86915e8",
   "metadata": {},
   "outputs": [
    {
     "data": {
      "text/html": [
       "<div>\n",
       "<style scoped>\n",
       "    .dataframe tbody tr th:only-of-type {\n",
       "        vertical-align: middle;\n",
       "    }\n",
       "\n",
       "    .dataframe tbody tr th {\n",
       "        vertical-align: top;\n",
       "    }\n",
       "\n",
       "    .dataframe thead th {\n",
       "        text-align: right;\n",
       "    }\n",
       "</style>\n",
       "<table border=\"1\" class=\"dataframe\">\n",
       "  <thead>\n",
       "    <tr style=\"text-align: right;\">\n",
       "      <th></th>\n",
       "      <th>breath_id</th>\n",
       "      <th>closest_cluster</th>\n",
       "      <th>farest_cluster</th>\n",
       "    </tr>\n",
       "  </thead>\n",
       "  <tbody>\n",
       "    <tr>\n",
       "      <th>0</th>\n",
       "      <td>1</td>\n",
       "      <td>3</td>\n",
       "      <td>333</td>\n",
       "    </tr>\n",
       "    <tr>\n",
       "      <th>1</th>\n",
       "      <td>2</td>\n",
       "      <td>0</td>\n",
       "      <td>333</td>\n",
       "    </tr>\n",
       "    <tr>\n",
       "      <th>2</th>\n",
       "      <td>3</td>\n",
       "      <td>0</td>\n",
       "      <td>333</td>\n",
       "    </tr>\n",
       "    <tr>\n",
       "      <th>3</th>\n",
       "      <td>4</td>\n",
       "      <td>159</td>\n",
       "      <td>333</td>\n",
       "    </tr>\n",
       "    <tr>\n",
       "      <th>4</th>\n",
       "      <td>5</td>\n",
       "      <td>1</td>\n",
       "      <td>333</td>\n",
       "    </tr>\n",
       "    <tr>\n",
       "      <th>...</th>\n",
       "      <td>...</td>\n",
       "      <td>...</td>\n",
       "      <td>...</td>\n",
       "    </tr>\n",
       "    <tr>\n",
       "      <th>75445</th>\n",
       "      <td>125740</td>\n",
       "      <td>0</td>\n",
       "      <td>333</td>\n",
       "    </tr>\n",
       "    <tr>\n",
       "      <th>75446</th>\n",
       "      <td>125742</td>\n",
       "      <td>162</td>\n",
       "      <td>371</td>\n",
       "    </tr>\n",
       "    <tr>\n",
       "      <th>75447</th>\n",
       "      <td>125743</td>\n",
       "      <td>161</td>\n",
       "      <td>333</td>\n",
       "    </tr>\n",
       "    <tr>\n",
       "      <th>75448</th>\n",
       "      <td>125745</td>\n",
       "      <td>269</td>\n",
       "      <td>333</td>\n",
       "    </tr>\n",
       "    <tr>\n",
       "      <th>75449</th>\n",
       "      <td>125749</td>\n",
       "      <td>29</td>\n",
       "      <td>333</td>\n",
       "    </tr>\n",
       "  </tbody>\n",
       "</table>\n",
       "<p>75450 rows × 3 columns</p>\n",
       "</div>"
      ],
      "text/plain": [
       "       breath_id  closest_cluster  farest_cluster\n",
       "0              1                3             333\n",
       "1              2                0             333\n",
       "2              3                0             333\n",
       "3              4              159             333\n",
       "4              5                1             333\n",
       "...          ...              ...             ...\n",
       "75445     125740                0             333\n",
       "75446     125742              162             371\n",
       "75447     125743              161             333\n",
       "75448     125745              269             333\n",
       "75449     125749               29             333\n",
       "\n",
       "[75450 rows x 3 columns]"
      ]
     },
     "execution_count": 44,
     "metadata": {},
     "output_type": "execute_result"
    }
   ],
   "source": [
    "dfp_breath_id_assignation"
   ]
  },
  {
   "cell_type": "code",
   "execution_count": 21,
   "id": "80bcf698-17e3-4911-ab8b-de41ca90646e",
   "metadata": {},
   "outputs": [
    {
     "data": {
      "text/plain": [
       "array([[8.33340056e-02, 1.83830415e+01, 2.25092778e+01, ...,\n",
       "        4.98184740e+00, 4.98468316e+00, 4.98707904e+00],\n",
       "       [9.34926139e+01, 8.61411015e+01, 7.73674700e+01, ...,\n",
       "        4.96487447e+00, 4.97019453e+00, 4.97457264e+00],\n",
       "       [3.97307938e+01, 6.97816926e+01, 5.54851577e+01, ...,\n",
       "        4.60730630e+00, 4.61542084e+00, 4.62279238e+00],\n",
       "       ...,\n",
       "       [2.60718857e+00, 3.68108018e+01, 4.82378274e+01, ...,\n",
       "        4.98074363e+00, 4.98373708e+00, 4.98628498e+00],\n",
       "       [1.08891811e+01, 3.09958103e+01, 3.37710576e+01, ...,\n",
       "        4.98430053e+00, 4.98677883e+00, 4.98884842e+00],\n",
       "       [4.87712284e+00, 2.10060090e+01, 2.80100161e+01, ...,\n",
       "        4.96079197e+00, 4.96662859e+00, 4.97153351e+00]])"
      ]
     },
     "execution_count": 21,
     "metadata": {},
     "output_type": "execute_result"
    }
   ],
   "source": [
    "X"
   ]
  },
  {
   "cell_type": "code",
   "execution_count": null,
   "id": "1869cb88-2c04-4c54-9be3-585bc4d04b1a",
   "metadata": {},
   "outputs": [],
   "source": []
  }
 ],
 "metadata": {
  "kernelspec": {
   "display_name": "oldml_p37",
   "language": "python",
   "name": "oldml_p37"
  },
  "language_info": {
   "codemirror_mode": {
    "name": "ipython",
    "version": 3
   },
   "file_extension": ".py",
   "mimetype": "text/x-python",
   "name": "python",
   "nbconvert_exporter": "python",
   "pygments_lexer": "ipython3",
   "version": "3.7.10"
  }
 },
 "nbformat": 4,
 "nbformat_minor": 5
}
