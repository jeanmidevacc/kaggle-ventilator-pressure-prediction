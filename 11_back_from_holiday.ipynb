{
 "cells": [
  {
   "cell_type": "code",
   "execution_count": 10,
   "id": "c4d0a415-59cf-46c1-8ef2-77f81ec5f98e",
   "metadata": {},
   "outputs": [],
   "source": [
    "import pandas as pd\n",
    "from datetime import datetime\n",
    "\n",
    "folder = \"./data/20210921/\""
   ]
  },
  {
   "cell_type": "code",
   "execution_count": 4,
   "id": "81d55010-d61a-43be-b8ab-a2bef531a73b",
   "metadata": {},
   "outputs": [
    {
     "name": "stdout",
     "output_type": "stream",
     "text": [
      "6036000\n",
      "4828800\n"
     ]
    }
   ],
   "source": [
    "dfp_train = pd.read_csv(folder + \"train.csv\")\n",
    "dfp_test = pd.read_csv(folder + \"test.csv\")\n",
    "print(len(dfp_train))\n",
    "\n",
    "dfp_mapping = pd.read_csv(\"./data/train_breath_mapping.csv\")\n",
    "dfp_train = pd.merge(dfp_train, dfp_mapping[dfp_mapping[\"type_record\"] == \"training\"][\"breath_id\"], on=[\"breath_id\"])\n",
    "print(len(dfp_train))\n",
    "\n",
    "dfp_train.sort_values([\"breath_id\", \"time_step\"], inplace=True)\n",
    "dfp_test.sort_values([\"breath_id\", \"time_step\"], inplace=True)"
   ]
  },
  {
   "cell_type": "markdown",
   "id": "7c739570-affb-49d2-8100-531f497e9b52",
   "metadata": {},
   "source": [
    "## GEt kaggle features"
   ]
  },
  {
   "cell_type": "code",
   "execution_count": 6,
   "id": "737dc4b8-396e-4757-ad91-d2da95e9f72c",
   "metadata": {},
   "outputs": [],
   "source": [
    "# From https://www.kaggle.com/tenffe/finetune-of-tensorflow-bidirectional-lstm\n",
    "def add_features(df):\n",
    "    df['area'] = df['time_step'] * df['u_in']\n",
    "    df['area'] = df.groupby('breath_id')['area'].cumsum()\n",
    "    df['u_in_cumsum'] = (df['u_in']).groupby(df['breath_id']).cumsum()\n",
    "    df['u_in_lag1'] = df.groupby('breath_id')['u_in'].shift(1)\n",
    "    df['u_out_lag1'] = df.groupby('breath_id')['u_out'].shift(1)\n",
    "    df['u_in_lag_back1'] = df.groupby('breath_id')['u_in'].shift(-1)\n",
    "    df['u_out_lag_back1'] = df.groupby('breath_id')['u_out'].shift(-1)\n",
    "    df['u_in_lag2'] = df.groupby('breath_id')['u_in'].shift(2)\n",
    "    df['u_out_lag2'] = df.groupby('breath_id')['u_out'].shift(2)\n",
    "    df['u_in_lag_back2'] = df.groupby('breath_id')['u_in'].shift(-2)\n",
    "    df['u_out_lag_back2'] = df.groupby('breath_id')['u_out'].shift(-2)\n",
    "    df['u_in_lag3'] = df.groupby('breath_id')['u_in'].shift(3)\n",
    "    df['u_out_lag3'] = df.groupby('breath_id')['u_out'].shift(3)\n",
    "    df['u_in_lag_back3'] = df.groupby('breath_id')['u_in'].shift(-3)\n",
    "    df['u_out_lag_back3'] = df.groupby('breath_id')['u_out'].shift(-3)\n",
    "    df['u_in_lag4'] = df.groupby('breath_id')['u_in'].shift(4)\n",
    "    df['u_out_lag4'] = df.groupby('breath_id')['u_out'].shift(4)\n",
    "    df['u_in_lag_back4'] = df.groupby('breath_id')['u_in'].shift(-4)\n",
    "    df['u_out_lag_back4'] = df.groupby('breath_id')['u_out'].shift(-4)\n",
    "    df = df.fillna(0)\n",
    "    df['breath_id__u_in__max'] = df.groupby(['breath_id'])['u_in'].transform('max')\n",
    "    df['breath_id__u_out__max'] = df.groupby(['breath_id'])['u_out'].transform('max')\n",
    "    df['u_in_diff1'] = df['u_in'] - df['u_in_lag1']\n",
    "    df['u_out_diff1'] = df['u_out'] - df['u_out_lag1']\n",
    "    df['u_in_diff2'] = df['u_in'] - df['u_in_lag2']\n",
    "    df['u_out_diff2'] = df['u_out'] - df['u_out_lag2']\n",
    "    df['breath_id__u_in__diffmax'] = df.groupby(['breath_id'])['u_in'].transform('max') - df['u_in']\n",
    "    df['breath_id__u_in__diffmean'] = df.groupby(['breath_id'])['u_in'].transform('mean') - df['u_in']\n",
    "    df['breath_id__u_in__diffmax'] = df.groupby(['breath_id'])['u_in'].transform('max') - df['u_in']\n",
    "    df['breath_id__u_in__diffmean'] = df.groupby(['breath_id'])['u_in'].transform('mean') - df['u_in']\n",
    "    df['u_in_diff3'] = df['u_in'] - df['u_in_lag3']\n",
    "    df['u_out_diff3'] = df['u_out'] - df['u_out_lag3']\n",
    "    df['u_in_diff4'] = df['u_in'] - df['u_in_lag4']\n",
    "    df['u_out_diff4'] = df['u_out'] - df['u_out_lag4']\n",
    "    df['cross']= df['u_in']*df['u_out']\n",
    "    df['cross2']= df['time_step']*df['u_out']\n",
    "    df['R'] = df['R'].astype(str)\n",
    "    df['C'] = df['C'].astype(str)\n",
    "    df['R__C'] = df[\"R\"].astype(str) + '__' + df[\"C\"].astype(str)\n",
    "    df = pd.get_dummies(df)\n",
    "    return df"
   ]
  },
  {
   "cell_type": "code",
   "execution_count": 7,
   "id": "052933f2-c6ac-46d9-9c19-d8193a9b9817",
   "metadata": {},
   "outputs": [
    {
     "name": "stdout",
     "output_type": "stream",
     "text": [
      "CPU times: user 16.3 s, sys: 2.6 s, total: 18.9 s\n",
      "Wall time: 18.9 s\n"
     ]
    }
   ],
   "source": [
    "%%time\n",
    "dfp_train_augmented = add_features(dfp_train)\n",
    "dfp_test_augmented = add_features(dfp_test)"
   ]
  },
  {
   "cell_type": "code",
   "execution_count": 9,
   "id": "bb9baa3b-c03d-4113-958e-21af51c56078",
   "metadata": {},
   "outputs": [
    {
     "name": "stdout",
     "output_type": "stream",
     "text": [
      "Features: ['time_step', 'u_in', 'u_out', 'area', 'u_in_cumsum', 'u_in_lag1', 'u_out_lag1', 'u_in_lag_back1', 'u_out_lag_back1', 'u_in_lag2', 'u_out_lag2', 'u_in_lag_back2', 'u_out_lag_back2', 'u_in_lag3', 'u_out_lag3', 'u_in_lag_back3', 'u_out_lag_back3', 'u_in_lag4', 'u_out_lag4', 'u_in_lag_back4', 'u_out_lag_back4', 'breath_id__u_in__max', 'breath_id__u_out__max', 'u_in_diff1', 'u_out_diff1', 'u_in_diff2', 'u_out_diff2', 'breath_id__u_in__diffmax', 'breath_id__u_in__diffmean', 'u_in_diff3', 'u_out_diff3', 'u_in_diff4', 'u_out_diff4', 'cross', 'cross2', 'R_20', 'R_5', 'R_50', 'C_10', 'C_20', 'C_50', 'R__C_20__10', 'R__C_20__20', 'R__C_20__50', 'R__C_50__10', 'R__C_50__20', 'R__C_50__50', 'R__C_5__10', 'R__C_5__20', 'R__C_5__50']\n"
     ]
    }
   ],
   "source": [
    "column_target = \"pressure\"\n",
    "metric = \"mae\"\n",
    "\n",
    "columns_features = []\n",
    "for elt in list(dfp_train_augmented.columns):\n",
    "    if elt not in [\"id\", \"breath_id\", \"pressure\"]:\n",
    "        columns_features.append(elt)\n",
    "        \n",
    "print(\"Features:\", columns_features)\n",
    "\n",
    "X_train, y_train = dfp_train_augmented[columns_features], dfp_train_augmented[column_target]\n",
    "X_test = dfp_test_augmented.sort_values(\"id\")[columns_features]"
   ]
  },
  {
   "cell_type": "code",
   "execution_count": 12,
   "id": "5f2133af-c5b3-4bd8-8d7d-cb1c9d40efdf",
   "metadata": {},
   "outputs": [
    {
     "name": "stdout",
     "output_type": "stream",
     "text": [
      "Linear algorithm was disabled.\n",
      "AutoML directory: AutoML_3\n",
      "The task is regression with evaluation metric mae\n",
      "AutoML will use algorithms: ['Decision Tree', 'Random Forest', 'Extra Trees', 'LightGBM', 'Xgboost', 'CatBoost', 'Neural Network', 'Nearest Neighbors']\n",
      "AutoML will stack models\n",
      "AutoML will ensemble availabe models\n",
      "AutoML steps: ['adjust_validation', 'simple_algorithms', 'default_algorithms', 'not_so_random', 'golden_features', 'kmeans_features', 'insert_random_feature', 'features_selection', 'hill_climbing_1', 'hill_climbing_2', 'boost_on_errors', 'ensemble', 'stack', 'ensemble_stacked']\n",
      "* Step adjust_validation will try to check up to 1 model\n",
      "1_DecisionTree mae 2.346279 trained in 46.85 seconds\n",
      "Disable stacking for split validation\n",
      "* Step simple_algorithms will try to check up to 2 models\n",
      "2_DecisionTree mae 2.147211 trained in 58.49 seconds\n",
      "3_DecisionTree mae 2.147211 trained in 58.09 seconds\n",
      "* Step default_algorithms will try to check up to 6 models\n",
      "4_Default_LightGBM mae 0.411224 trained in 1248.82 seconds\n",
      "* Step not_so_random will try to check up to 54 models\n",
      "14_LightGBM mae 0.514389 trained in 1115.21 seconds\n",
      "Skip golden_features because of the time limit.\n",
      "* Step kmeans_features will try to check up to 3 models\n",
      "3_DecisionTree_KMeansFeatures mae 2.134457 trained in 323.2 seconds\n",
      "Skip insert_random_feature because of the time limit.\n",
      "Skip features_selection because no parameters were generated.\n",
      "* Step hill_climbing_1 will try to check up to 6 models\n",
      "18_DecisionTree mae 2.134457 trained in 323.77 seconds\n",
      "19_DecisionTree mae 2.147211 trained in 59.84 seconds\n",
      "* Step hill_climbing_2 will try to check up to 3 models\n",
      "* Step ensemble will try to check up to 1 model\n",
      "Ensemble mae 0.411224 trained in 0.53 seconds\n",
      "AutoML fit time: 3264.78 seconds\n",
      "AutoML best model: 4_Default_LightGBM\n"
     ]
    }
   ],
   "source": [
    "from supervised.automl import AutoML\n",
    "\n",
    "for mode in [\"Compete\"]:\n",
    "    dfp_submissions = dfp_test_augmented.sort_values(\"id\").copy()\n",
    "    automl = AutoML(mode=mode, eval_metric=metric)\n",
    "    automl.fit(X_train, y_train)\n",
    "\n",
    "    dfp_submissions[\"pressure\"] = automl.predict(X_test)\n",
    "    dfp_submissions = dfp_submissions[[\"id\", \"pressure\"]]\n",
    "    dfp_submissions.to_csv(f\"./data/submissions/{datetime.utcnow().strftime('%Y%m%d%H')}_mljar_{mode.lower()}.csv\", index=None)"
   ]
  },
  {
   "cell_type": "code",
   "execution_count": null,
   "id": "cff8f55f-a5cc-4d5f-81c8-e5636c080a16",
   "metadata": {},
   "outputs": [],
   "source": []
  }
 ],
 "metadata": {
  "kernelspec": {
   "display_name": "oldml_p37",
   "language": "python",
   "name": "oldml_p37"
  },
  "language_info": {
   "codemirror_mode": {
    "name": "ipython",
    "version": 3
   },
   "file_extension": ".py",
   "mimetype": "text/x-python",
   "name": "python",
   "nbconvert_exporter": "python",
   "pygments_lexer": "ipython3",
   "version": "3.7.10"
  }
 },
 "nbformat": 4,
 "nbformat_minor": 5
}
