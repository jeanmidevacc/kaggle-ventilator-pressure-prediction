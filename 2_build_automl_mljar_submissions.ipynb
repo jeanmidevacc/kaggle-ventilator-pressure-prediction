{
 "cells": [
  {
   "cell_type": "code",
   "execution_count": 3,
   "id": "5200f507-2aff-425f-9372-c4937833a552",
   "metadata": {},
   "outputs": [],
   "source": [
    "from datetime import datetime\n",
    "import random \n",
    "import pandas as pd\n",
    "\n",
    "from supervised.automl import AutoML\n",
    "from sklearn.metrics import mean_squared_error"
   ]
  },
  {
   "cell_type": "code",
   "execution_count": 6,
   "id": "d05c3227-3234-4dc8-a3fc-4cccca44f0e7",
   "metadata": {},
   "outputs": [],
   "source": [
    "folder = \"./data/20210921/\"\n",
    "column_target = \"pressure\"\n",
    "columns_features = [\"R\", \"C\", \"u_in\", \"u_out\"]"
   ]
  },
  {
   "cell_type": "code",
   "execution_count": 7,
   "id": "1839969a-6e73-473c-9dfa-e4d9ee253758",
   "metadata": {},
   "outputs": [],
   "source": [
    "dfp_train = pd.read_csv(folder + \"train.csv\")\n",
    "dfp_test = pd.read_csv(folder + \"test.csv\")"
   ]
  },
  {
   "cell_type": "code",
   "execution_count": 9,
   "id": "ceca5ff4-3eae-4bea-9192-4de2cd975def",
   "metadata": {},
   "outputs": [],
   "source": [
    "X_train, y_train = dfp_train[columns_features], dfp_train[column_target]\n",
    "X_test = dfp_test[columns_features]"
   ]
  },
  {
   "cell_type": "markdown",
   "id": "0481e4dd-4c6b-4012-85e8-9f33b49666e8",
   "metadata": {},
   "source": [
    "# AutoML with mljar"
   ]
  },
  {
   "cell_type": "code",
   "execution_count": 10,
   "id": "23799dee-2f7d-4042-bbda-bbff0f7549be",
   "metadata": {},
   "outputs": [
    {
     "name": "stdout",
     "output_type": "stream",
     "text": [
      "Linear algorithm was disabled.\n",
      "AutoML directory: AutoML_1\n",
      "The task is regression with evaluation metric rmse\n",
      "AutoML will use algorithms: ['Baseline', 'Decision Tree', 'Random Forest', 'Xgboost', 'Neural Network']\n",
      "AutoML will ensemble availabe models\n",
      "AutoML steps: ['simple_algorithms', 'default_algorithms', 'ensemble']\n",
      "* Step simple_algorithms will try to check up to 2 models\n",
      "1_Baseline rmse 8.108427 trained in 1.97 seconds\n",
      "2_DecisionTree rmse 6.029145 trained in 916.09 seconds\n",
      "* Step default_algorithms will try to check up to 3 models\n",
      "3_Default_Xgboost rmse 5.671475 trained in 97.8 seconds\n",
      "4_Default_NeuralNetwork rmse 5.807845 trained in 471.09 seconds\n",
      "5_Default_RandomForest rmse 5.886177 trained in 69.25 seconds\n",
      "* Step ensemble will try to check up to 1 model\n",
      "Ensemble rmse 5.671475 trained in 0.48 seconds\n"
     ]
    },
    {
     "name": "stderr",
     "output_type": "stream",
     "text": [
      "An input array is constant; the correlation coefficent is not defined.\n"
     ]
    },
    {
     "name": "stdout",
     "output_type": "stream",
     "text": [
      "AutoML fit time: 1601.4 seconds\n",
      "AutoML best model: 3_Default_Xgboost\n"
     ]
    },
    {
     "data": {
      "text/plain": [
       "AutoML()"
      ]
     },
     "execution_count": 10,
     "metadata": {},
     "output_type": "execute_result"
    }
   ],
   "source": [
    "mode = \"Explain\"\n",
    "automl = AutoML(mode=mode) # mode=Explain, Perform, Compete\n",
    "automl.fit(X_train, y_train)"
   ]
  },
  {
   "cell_type": "code",
   "execution_count": 11,
   "id": "7067306f-a841-4127-a4c9-16ad22876d46",
   "metadata": {},
   "outputs": [],
   "source": [
    "dfp_submissions = dfp_test.copy()\n",
    "dfp_submissions[\"pressure\"] = automl.predict(X_test)\n",
    "dfp_submissions = dfp_submissions[[\"id\", \"pressure\"]]\n",
    "dfp_submissions.to_csv(f\"./data/submissions/{datetime.utcnow().strftime('%Y%m%d')}_mljar_{mode.lower()}.csv\", index=None)"
   ]
  },
  {
   "cell_type": "code",
   "execution_count": 12,
   "id": "86b829bd-1e5d-43fe-8ac0-c29608460fad",
   "metadata": {},
   "outputs": [
    {
     "name": "stdout",
     "output_type": "stream",
     "text": [
      "Linear algorithm was disabled.\n",
      "AutoML directory: AutoML_2\n",
      "The task is regression with evaluation metric rmse\n",
      "AutoML will use algorithms: ['Random Forest', 'LightGBM', 'Xgboost', 'CatBoost', 'Neural Network']\n",
      "AutoML will ensemble availabe models\n",
      "AutoML steps: ['simple_algorithms', 'default_algorithms', 'not_so_random', 'golden_features', 'insert_random_feature', 'features_selection', 'hill_climbing_1', 'hill_climbing_2', 'ensemble']\n",
      "Skip simple_algorithms because no parameters were generated.\n",
      "* Step default_algorithms will try to check up to 5 models\n",
      "1_Default_LightGBM rmse 5.662249 trained in 1022.52 seconds (1-sample predict time 0.0413 seconds)\n",
      "2_Default_Xgboost rmse 5.671929 trained in 479.58 seconds (1-sample predict time 0.0414 seconds)\n",
      "* Step not_so_random will try to check up to 20 models\n",
      "7_LightGBM not trained. Force to stop the training. Total time for AutoML training already exceeded.\n",
      "Skip golden_features because no parameters were generated.\n",
      "Skip insert_random_feature because no parameters were generated.\n",
      "Skip features_selection because no parameters were generated.\n",
      "Skip hill_climbing_1 because of the time limit.\n",
      "Skip hill_climbing_2 because of the time limit.\n",
      "* Step ensemble will try to check up to 1 model\n",
      "Ensemble rmse 5.662249 trained in 0.49 seconds (1-sample predict time 0.0548 seconds)\n",
      "AutoML fit time: 4443.3 seconds\n",
      "AutoML best model: 1_Default_LightGBM\n",
      "Linear algorithm was disabled.\n",
      "AutoML directory: AutoML_3\n",
      "The task is regression with evaluation metric rmse\n",
      "AutoML will use algorithms: ['Decision Tree', 'Random Forest', 'Extra Trees', 'LightGBM', 'Xgboost', 'CatBoost', 'Neural Network', 'Nearest Neighbors']\n",
      "AutoML will stack models\n",
      "AutoML will ensemble availabe models\n",
      "AutoML steps: ['adjust_validation', 'simple_algorithms', 'default_algorithms', 'not_so_random', 'golden_features', 'kmeans_features', 'insert_random_feature', 'features_selection', 'hill_climbing_1', 'hill_climbing_2', 'boost_on_errors', 'ensemble', 'stack', 'ensemble_stacked']\n",
      "* Step adjust_validation will try to check up to 1 model\n",
      "1_DecisionTree rmse 6.036152 trained in 4.86 seconds\n",
      "Adjust validation. Remove: 1_DecisionTree\n",
      "Validation strategy: 5-fold CV Shuffle\n",
      "* Step simple_algorithms will try to check up to 3 models\n",
      "1_DecisionTree rmse 6.031609 trained in 17.83 seconds\n",
      "2_DecisionTree rmse 5.93081 trained in 21.67 seconds\n",
      "3_DecisionTree rmse 5.93081 trained in 21.2 seconds\n",
      "* Step default_algorithms will try to check up to 6 models\n",
      "4_Default_LightGBM rmse 5.662438 trained in 178.34 seconds\n",
      "5_Default_Xgboost rmse 5.671929 trained in 339.78 seconds\n",
      "6_Default_CatBoost rmse 5.664104 trained in 357.05 seconds\n",
      "* Step not_so_random will try to check up to 54 models\n",
      "16_LightGBM rmse 5.670948 trained in 999.05 seconds\n",
      "Skip golden_features because of the time limit.\n",
      "* Step kmeans_features will try to check up to 3 models\n",
      "4_Default_LightGBM_KMeansFeatures rmse 5.662015 trained in 294.26 seconds\n",
      "Not enough time to perform features selection. Skip\n",
      "Time needed for features selection ~ 968.0 seconds\n",
      "Please increase total_time_limit to at least (9736 seconds) to have features selection\n",
      "Skip insert_random_feature because no parameters were generated.\n",
      "Skip features_selection because no parameters were generated.\n",
      "* Step hill_climbing_1 will try to check up to 11 models\n",
      "17_LightGBM rmse 5.662208 trained in 405.09 seconds\n",
      "* Step hill_climbing_2 will try to check up to 11 models\n",
      "18_LightGBM rmse 5.66197 trained in 253.42 seconds\n",
      "* Step boost_on_errors will try to check up to 1 model\n",
      "18_LightGBM_BoostOnErrors rmse 5.662261 trained in 250.87 seconds\n",
      "* Step ensemble will try to check up to 1 model\n",
      "Ensemble rmse 5.66177 trained in 7.37 seconds\n",
      "* Step stack will try to check up to 7 models\n",
      "18_LightGBM_Stacked rmse 5.662318 trained in 403.56 seconds\n",
      "* Step ensemble_stacked will try to check up to 1 model\n",
      "Ensemble_Stacked rmse 5.661649 trained in 10.06 seconds\n",
      "AutoML fit time: 3891.44 seconds\n",
      "AutoML best model: Ensemble_Stacked\n"
     ]
    }
   ],
   "source": [
    "for mode in [\"Perform\", \"Compete\"]:\n",
    "    automl = AutoML(mode=mode) # mode=Explain, Perform, Compete\n",
    "    automl.fit(X_train, y_train)\n",
    "    \n",
    "    dfp_submissions = dfp_test.copy()\n",
    "    dfp_submissions[\"pressure\"] = automl.predict(X_test)\n",
    "    dfp_submissions = dfp_submissions[[\"id\", \"pressure\"]]\n",
    "    dfp_submissions.to_csv(f\"./data/submissions/{datetime.utcnow().strftime('%Y%m%d')}_mljar_{mode.lower()}.csv\", index=None)"
   ]
  },
  {
   "cell_type": "code",
   "execution_count": null,
   "id": "e0cfbb87-4b62-421b-9936-8ad41e4a9ce9",
   "metadata": {},
   "outputs": [],
   "source": []
  }
 ],
 "metadata": {
  "kernelspec": {
   "display_name": "oldml_p37",
   "language": "python",
   "name": "oldml_p37"
  },
  "language_info": {
   "codemirror_mode": {
    "name": "ipython",
    "version": 3
   },
   "file_extension": ".py",
   "mimetype": "text/x-python",
   "name": "python",
   "nbconvert_exporter": "python",
   "pygments_lexer": "ipython3",
   "version": "3.7.10"
  }
 },
 "nbformat": 4,
 "nbformat_minor": 5
}
