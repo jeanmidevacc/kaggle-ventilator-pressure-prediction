{
 "cells": [
  {
   "cell_type": "code",
   "execution_count": null,
   "id": "5200f507-2aff-425f-9372-c4937833a552",
   "metadata": {},
   "outputs": [],
   "source": [
    "from datetime import datetime\n",
    "import random \n",
    "import pandas as pd\n",
    "\n",
    "from supervised.automl import AutoML\n",
    "from sklearn.metrics import mean_squared_error"
   ]
  },
  {
   "cell_type": "code",
   "execution_count": null,
   "id": "d05c3227-3234-4dc8-a3fc-4cccca44f0e7",
   "metadata": {},
   "outputs": [],
   "source": [
    "folder = \"./data/updated_datasets/\"\n",
    "column_target = \"pressure\"\n",
    "columns_features = [\"R-C\", \"max_u_in\", \"min_u_in\", \"u_in_norm\", \"u_in_norm_trend_1\", \"u_in_norm_trend_2\", \"u_in_norm_trend_4\", \"u_out\", \"u_out_threshold_reached\", \"time_step\"]"
   ]
  },
  {
   "cell_type": "code",
   "execution_count": null,
   "id": "1839969a-6e73-473c-9dfa-e4d9ee253758",
   "metadata": {},
   "outputs": [],
   "source": [
    "dfp_train = pd.read_csv(folder + \"train_20211004.csv\")\n",
    "dfp_test = pd.read_csv(folder + \"test_20211004.csv\")"
   ]
  },
  {
   "cell_type": "code",
   "execution_count": null,
   "id": "0a6db702-d8f0-4761-88cd-dab258fe4dba",
   "metadata": {},
   "outputs": [],
   "source": [
    "dfp_train.iloc[0], dfp_test.iloc[0]"
   ]
  },
  {
   "cell_type": "code",
   "execution_count": null,
   "id": "ceca5ff4-3eae-4bea-9192-4de2cd975def",
   "metadata": {},
   "outputs": [],
   "source": [
    "X_train, y_train = dfp_train[columns_features], dfp_train[column_target]\n",
    "X_test = dfp_test[columns_features]"
   ]
  },
  {
   "cell_type": "markdown",
   "id": "0481e4dd-4c6b-4012-85e8-9f33b49666e8",
   "metadata": {},
   "source": [
    "# AutoML with mljar"
   ]
  },
  {
   "cell_type": "code",
   "execution_count": null,
   "id": "86b829bd-1e5d-43fe-8ac0-c29608460fad",
   "metadata": {},
   "outputs": [],
   "source": [
    "# for mode in [\"Explain\", \"Perform\", \"Compete\"]:\n",
    "for metric in [\"rmse\", \"mae\", \"spearman\"]:\n",
    "    for mode in [\"Compete\"]:\n",
    "        automl = AutoML(mode=mode, eval_metric=metric) # mode=Explain, Perform, Compete\n",
    "        automl.fit(X_train, y_train)\n",
    "\n",
    "        dfp_submissions = dfp_test.copy()\n",
    "        dfp_submissions[\"pressure\"] = automl.predict(X_test)\n",
    "        dfp_submissions = dfp_submissions[[\"id\", \"pressure\"]]\n",
    "        dfp_submissions.to_csv(f\"./data/submissions/{datetime.utcnow().strftime('%Y%m%d')}_mljar_{mode.lower()}_{metric}_nf20211004.csv\", index=None)"
   ]
  },
  {
   "cell_type": "code",
   "execution_count": null,
   "id": "e0cfbb87-4b62-421b-9936-8ad41e4a9ce9",
   "metadata": {},
   "outputs": [],
   "source": []
  }
 ],
 "metadata": {
  "kernelspec": {
   "display_name": "oldml_p37",
   "language": "python",
   "name": "oldml_p37"
  },
  "language_info": {
   "codemirror_mode": {
    "name": "ipython",
    "version": 3
   },
   "file_extension": ".py",
   "mimetype": "text/x-python",
   "name": "python",
   "nbconvert_exporter": "python",
   "pygments_lexer": "ipython3",
   "version": "3.7.10"
  }
 },
 "nbformat": 4,
 "nbformat_minor": 5
}
