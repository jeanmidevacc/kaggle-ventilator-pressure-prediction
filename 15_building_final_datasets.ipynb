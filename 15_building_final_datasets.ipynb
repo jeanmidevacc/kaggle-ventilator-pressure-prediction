{
 "cells": [
  {
   "cell_type": "code",
   "execution_count": 7,
   "id": "559c6bab-23ba-4d05-9692-eb60c41d8cea",
   "metadata": {},
   "outputs": [],
   "source": [
    "import pandas as pd\n",
    "from datetime import datetime\n",
    "from tqdm import tqdm\n",
    "import matplotlib.pyplot as plt\n",
    "\n",
    "\n",
    "pd.options.mode.chained_assignment = None  # default='warn'\n",
    "\n",
    "folder = \"./data/20210921/\"\n",
    "dfp_mapping = pd.read_csv(\"./data/train_breath_mapping.csv\")\n",
    "\n",
    "def plot_breath(dfp_train_breath_id, columns=[\"R\",\"C\", \"u_in\",\"u_out\"], output_to_predict=\"pressure\"):\n",
    "    for column in columns:\n",
    "        fig,ax=plt.subplots(figsize=(12,6))\n",
    "        dfp_train_breath_id.plot(ax=ax, x=\"time_step\", y=output_to_predict, color=\"r\")\n",
    "        dfp_train_breath_id.plot(ax=ax, x=\"time_step\", y=column, color=\"b\", secondary_y=True)\n",
    "        fig.tight_layout()\n",
    "        plt.show()"
   ]
  },
  {
   "cell_type": "code",
   "execution_count": 8,
   "id": "a0b75b50-7a6b-4802-923f-2a0d7fbdc147",
   "metadata": {},
   "outputs": [],
   "source": [
    "dfp_train_full = pd.read_csv(folder + \"train.csv\")\n",
    "\n",
    "dfp_train = pd.merge(dfp_train_full, dfp_mapping[dfp_mapping[\"type_record\"] == \"training\"][\"breath_id\"], on=[\"breath_id\"])\n",
    "dfp_train.sort_values([\"breath_id\", \"time_step\"], inplace=True)\n",
    "dfp_validation_1 = pd.merge(dfp_train_full, dfp_mapping[dfp_mapping[\"type_record\"] == \"validation_I\"][\"breath_id\"], on=[\"breath_id\"])\n",
    "dfp_validation_1.sort_values([\"breath_id\", \"time_step\"], inplace=True)\n",
    "dfp_validation_2 = pd.merge(dfp_train_full, dfp_mapping[dfp_mapping[\"type_record\"] == \"validation_II\"][\"breath_id\"], on=[\"breath_id\"])\n",
    "dfp_validation_2.sort_values([\"breath_id\", \"time_step\"], inplace=True)\n",
    "\n",
    "# print(len(dfp_train), len(dfp_validation_1), len(dfp_validation_2))\n",
    "del dfp_train_full"
   ]
  },
  {
   "cell_type": "code",
   "execution_count": 9,
   "id": "f6cc4037-b5d9-46e0-bc69-a501ddb9dbf8",
   "metadata": {},
   "outputs": [],
   "source": [
    "dfp_test = pd.read_csv(folder + \"test.csv\")\n",
    "dfp_test.sort_values([\"breath_id\", \"time_step\"], inplace=True)"
   ]
  },
  {
   "cell_type": "markdown",
   "id": "42d19d56-4c5f-4fb4-91f8-2456f462ca5c",
   "metadata": {},
   "source": [
    "## Build original kaggle features"
   ]
  },
  {
   "cell_type": "code",
   "execution_count": 5,
   "id": "63b7ecae-f5bc-45d8-810e-93517eca646c",
   "metadata": {},
   "outputs": [],
   "source": [
    "def add_features(df):\n",
    "    df['area'] = df['time_step'] * df['u_in']\n",
    "    df['area'] = df.groupby('breath_id')['area'].cumsum()\n",
    "    df['u_in_cumsum'] = (df['u_in']).groupby(df['breath_id']).cumsum()\n",
    "    df['u_in_lag1'] = df.groupby('breath_id')['u_in'].shift(1)\n",
    "    df['u_out_lag1'] = df.groupby('breath_id')['u_out'].shift(1)\n",
    "    df['u_in_lag_back1'] = df.groupby('breath_id')['u_in'].shift(-1)\n",
    "    df['u_out_lag_back1'] = df.groupby('breath_id')['u_out'].shift(-1)\n",
    "    df['u_in_lag2'] = df.groupby('breath_id')['u_in'].shift(2)\n",
    "    df['u_out_lag2'] = df.groupby('breath_id')['u_out'].shift(2)\n",
    "    df['u_in_lag_back2'] = df.groupby('breath_id')['u_in'].shift(-2)\n",
    "    df['u_out_lag_back2'] = df.groupby('breath_id')['u_out'].shift(-2)\n",
    "    df['u_in_lag3'] = df.groupby('breath_id')['u_in'].shift(3)\n",
    "    df['u_out_lag3'] = df.groupby('breath_id')['u_out'].shift(3)\n",
    "    df['u_in_lag_back3'] = df.groupby('breath_id')['u_in'].shift(-3)\n",
    "    df['u_out_lag_back3'] = df.groupby('breath_id')['u_out'].shift(-3)\n",
    "    df['u_in_lag4'] = df.groupby('breath_id')['u_in'].shift(4)\n",
    "    df['u_out_lag4'] = df.groupby('breath_id')['u_out'].shift(4)\n",
    "    df['u_in_lag_back4'] = df.groupby('breath_id')['u_in'].shift(-4)\n",
    "    df['u_out_lag_back4'] = df.groupby('breath_id')['u_out'].shift(-4)\n",
    "    df = df.fillna(0)\n",
    "    df['breath_id__u_in__max'] = df.groupby(['breath_id'])['u_in'].transform('max')\n",
    "    df['breath_id__u_out__max'] = df.groupby(['breath_id'])['u_out'].transform('max')\n",
    "    df['u_in_diff1'] = df['u_in'] - df['u_in_lag1']\n",
    "    df['u_out_diff1'] = df['u_out'] - df['u_out_lag1']\n",
    "    df['u_in_diff2'] = df['u_in'] - df['u_in_lag2']\n",
    "    df['u_out_diff2'] = df['u_out'] - df['u_out_lag2']\n",
    "    df['breath_id__u_in__diffmax'] = df.groupby(['breath_id'])['u_in'].transform('max') - df['u_in']\n",
    "    df['breath_id__u_in__diffmean'] = df.groupby(['breath_id'])['u_in'].transform('mean') - df['u_in']\n",
    "    df['breath_id__u_in__diffmax'] = df.groupby(['breath_id'])['u_in'].transform('max') - df['u_in']\n",
    "    df['breath_id__u_in__diffmean'] = df.groupby(['breath_id'])['u_in'].transform('mean') - df['u_in']\n",
    "    df['u_in_diff3'] = df['u_in'] - df['u_in_lag3']\n",
    "    df['u_out_diff3'] = df['u_out'] - df['u_out_lag3']\n",
    "    df['u_in_diff4'] = df['u_in'] - df['u_in_lag4']\n",
    "    df['u_out_diff4'] = df['u_out'] - df['u_out_lag4']\n",
    "    df['cross']= df['u_in']*df['u_out']\n",
    "    df['cross2']= df['time_step']*df['u_out']\n",
    "    df['R'] = df['R'].astype(str)\n",
    "    df['C'] = df['C'].astype(str)\n",
    "    df['R__C'] = df[\"R\"].astype(str) + '__' + df[\"C\"].astype(str)\n",
    "    return df"
   ]
  },
  {
   "cell_type": "code",
   "execution_count": 52,
   "id": "39453d13-1bad-4742-a5eb-3dae762ea812",
   "metadata": {},
   "outputs": [
    {
     "name": "stdout",
     "output_type": "stream",
     "text": [
      "CPU times: user 3min 12s, sys: 5.09 s, total: 3min 17s\n",
      "Wall time: 3min 18s\n"
     ]
    }
   ],
   "source": [
    "%%time\n",
    "dfp_train_augmented = add_features(dfp_train)\n",
    "dfp_train_augmented.to_csv(f\"./data/final_datasets/train_final.csv\", index=None)\n",
    "\n",
    "dfp_validation_1_augmented = add_features(dfp_validation_1)\n",
    "dfp_validation_1_augmented.to_csv(f\"./data/final_datasets/validation1_final.csv\", index=None)\n",
    "dfp_validation_2_augmented = add_features(dfp_validation_2)\n",
    "dfp_validation_2_augmented.to_csv(f\"./data/final_datasets/validation2_final.csv\", index=None)"
   ]
  },
  {
   "cell_type": "code",
   "execution_count": 6,
   "id": "b5bf01ae-0b4b-4dbc-a0b7-ecac81821825",
   "metadata": {},
   "outputs": [],
   "source": [
    "dfp_test_augmented = add_features(dfp_test)\n",
    "dfp_test_augmented.to_csv(f\"./data/final_datasets/test_final.csv\", index=None)"
   ]
  },
  {
   "cell_type": "markdown",
   "id": "4d9105de-3420-40d1-8470-a3ac28661b7e",
   "metadata": {},
   "source": [
    "## Build original kaggle features + extra"
   ]
  },
  {
   "cell_type": "code",
   "execution_count": 14,
   "id": "e0abc814-dd90-49fd-985a-f0eb1e0d9295",
   "metadata": {},
   "outputs": [],
   "source": [
    "breath_ids = dfp_mapping[dfp_mapping[\"type_record\"] == \"validation_II\"][\"breath_id\"].unique()"
   ]
  },
  {
   "cell_type": "code",
   "execution_count": 12,
   "id": "4173f5d3-1bbb-4a65-b0c4-aceacbd5afe4",
   "metadata": {},
   "outputs": [],
   "source": [
    "def build_regime(time_step, time_step_threshold, time_step_max):\n",
    "    regime = -1\n",
    "    if time_step <= time_step_threshold and time_step_threshold != 0:\n",
    "        regime = -1 * (1 - (time_step / time_step_threshold))\n",
    "    else:\n",
    "        regime = 1 - (time_step_max - time_step) / (time_step_max - time_step_threshold)\n",
    "    return regime\n",
    "\n",
    "def add_features(df):\n",
    "    df['area'] = df['time_step'] * df['u_in']\n",
    "    df['area'] = df.groupby('breath_id')['area'].cumsum()\n",
    "    df['u_in_cumsum'] = (df['u_in']).groupby(df['breath_id']).cumsum()\n",
    "    df['u_in_lag1'] = df.groupby('breath_id')['u_in'].shift(1)\n",
    "    df['u_out_lag1'] = df.groupby('breath_id')['u_out'].shift(1)\n",
    "    df['u_in_lag_back1'] = df.groupby('breath_id')['u_in'].shift(-1)\n",
    "    df['u_out_lag_back1'] = df.groupby('breath_id')['u_out'].shift(-1)\n",
    "    df['u_in_lag2'] = df.groupby('breath_id')['u_in'].shift(2)\n",
    "    df['u_out_lag2'] = df.groupby('breath_id')['u_out'].shift(2)\n",
    "    df['u_in_lag_back2'] = df.groupby('breath_id')['u_in'].shift(-2)\n",
    "    df['u_out_lag_back2'] = df.groupby('breath_id')['u_out'].shift(-2)\n",
    "    df['u_in_lag3'] = df.groupby('breath_id')['u_in'].shift(3)\n",
    "    df['u_out_lag3'] = df.groupby('breath_id')['u_out'].shift(3)\n",
    "    df['u_in_lag_back3'] = df.groupby('breath_id')['u_in'].shift(-3)\n",
    "    df['u_out_lag_back3'] = df.groupby('breath_id')['u_out'].shift(-3)\n",
    "    df['u_in_lag4'] = df.groupby('breath_id')['u_in'].shift(4)\n",
    "    df['u_out_lag4'] = df.groupby('breath_id')['u_out'].shift(4)\n",
    "    df['u_in_lag_back4'] = df.groupby('breath_id')['u_in'].shift(-4)\n",
    "    df['u_out_lag_back4'] = df.groupby('breath_id')['u_out'].shift(-4)\n",
    "    df = df.fillna(0)\n",
    "    df['breath_id__u_in__max'] = df.groupby(['breath_id'])['u_in'].transform('max')\n",
    "    df['breath_id__u_out__max'] = df.groupby(['breath_id'])['u_out'].transform('max')\n",
    "    df['u_in_diff1'] = df['u_in'] - df['u_in_lag1']\n",
    "    df['u_out_diff1'] = df['u_out'] - df['u_out_lag1']\n",
    "    df['u_in_diff2'] = df['u_in'] - df['u_in_lag2']\n",
    "    df['u_out_diff2'] = df['u_out'] - df['u_out_lag2']\n",
    "    df['breath_id__u_in__diffmax'] = df.groupby(['breath_id'])['u_in'].transform('max') - df['u_in']\n",
    "    df['breath_id__u_in__diffmean'] = df.groupby(['breath_id'])['u_in'].transform('mean') - df['u_in']\n",
    "    df['breath_id__u_in__diffmax'] = df.groupby(['breath_id'])['u_in'].transform('max') - df['u_in']\n",
    "    df['breath_id__u_in__diffmean'] = df.groupby(['breath_id'])['u_in'].transform('mean') - df['u_in']\n",
    "    df['u_in_diff3'] = df['u_in'] - df['u_in_lag3']\n",
    "    df['u_out_diff3'] = df['u_out'] - df['u_out_lag3']\n",
    "    df['u_in_diff4'] = df['u_in'] - df['u_in_lag4']\n",
    "    df['u_out_diff4'] = df['u_out'] - df['u_out_lag4']\n",
    "    df['cross']= df['u_in']*df['u_out']\n",
    "    df['cross2']= df['time_step']*df['u_out']\n",
    "    df['R'] = df['R'].astype(str)\n",
    "    df['C'] = df['C'].astype(str)\n",
    "    df['R__C'] = df[\"R\"].astype(str) + '__' + df[\"C\"].astype(str)\n",
    "    \n",
    "    df[\"time_step_max\"] = df.groupby(['breath_id'])['time_step'].transform('max')\n",
    "    df_u_out_features = df[df[\"u_out\"] == 1].groupby(\"breath_id\").agg({\"time_step\" : \"min\"}).reset_index()\n",
    "    df_u_out_features.columns = [\"breath_id\", \"time_u_out_switch_regime\"]\n",
    "    df = pd.merge(df, df_u_out_features, on=[\"breath_id\"])\n",
    "    \n",
    "    df[\"u_out_regime\"] = df.apply(lambda row: build_regime(row[\"time_step\"], row[\"time_u_out_switch_regime\"], row[\"time_step_max\"]), axis=1)\n",
    "    \n",
    "    df_u_in_features = df.loc[df.groupby([\"breath_id\"])[\"u_in\"].idxmax()][[\"breath_id\", \"time_step\"]]\n",
    "    df_u_in_features.columns = [\"breath_id\", \"time_u_in_switch_regime\"]\n",
    "    df = pd.merge(df, df_u_in_features, on=[\"breath_id\"])\n",
    "    df[\"u_in_regime\"] = df.apply(lambda row: build_regime(row[\"time_step\"], row[\"time_u_in_switch_regime\"], row[\"time_step_max\"]), axis=1)\n",
    "    \n",
    "    \n",
    "    df.drop(['time_u_out_switch_regime', 'time_u_in_switch_regime', 'time_step_max'], axis=1, inplace=True)\n",
    "    \n",
    "    return df"
   ]
  },
  {
   "cell_type": "code",
   "execution_count": 23,
   "id": "81061046-4d60-4e4f-8ddb-1c1e718c118f",
   "metadata": {},
   "outputs": [
    {
     "name": "stdout",
     "output_type": "stream",
     "text": [
      "CPU times: user 5min 20s, sys: 14 s, total: 5min 34s\n",
      "Wall time: 5min 35s\n"
     ]
    }
   ],
   "source": [
    "%%time\n",
    "dfp_train_augmented = add_features(dfp_train)\n",
    "dfp_train_augmented.to_csv(f\"./data/final_datasets/train_final_2.csv\", index=None)\n",
    "\n",
    "dfp_validation_1_augmented = add_features(dfp_validation_1)\n",
    "dfp_validation_1_augmented.to_csv(f\"./data/final_datasets/validation1_final_2.csv\", index=None)\n",
    "dfp_validation_2_augmented = add_features(dfp_validation_2)\n",
    "dfp_validation_2_augmented.to_csv(f\"./data/final_datasets/validation2_final_2.csv\", index=None)"
   ]
  },
  {
   "cell_type": "code",
   "execution_count": 24,
   "id": "f07a882a-b00e-4ea1-b0b0-6ddd3cace062",
   "metadata": {},
   "outputs": [],
   "source": [
    "dfp_test_augmented = add_features(dfp_test)\n",
    "dfp_test_augmented.to_csv(f\"./data/final_datasets/test_final_2.csv\", index=None)"
   ]
  },
  {
   "cell_type": "code",
   "execution_count": 32,
   "id": "78a4eb67-ac73-4ebc-9982-1e8591bdde79",
   "metadata": {},
   "outputs": [],
   "source": [
    "dfp_breah = dfp_validation_2_augmented[dfp_validation_2_augmented[\"breath_id\"] == breath_ids[15]].sort_values([\"time_step\"])"
   ]
  },
  {
   "cell_type": "code",
   "execution_count": 33,
   "id": "e0885449-36b1-43c2-b9e1-00270127f1bb",
   "metadata": {},
   "outputs": [
    {
     "data": {
      "image/png": "[encoded data removed]",
      "text/plain": [
       "<Figure size 864x432 with 2 Axes>"
      ]
     },
     "metadata": {
      "needs_background": "light"
     },
     "output_type": "display_data"
    }
   ],
   "source": [
    "plot_breath(dfp_breah, [\"u_in_regime\"], \"pressure\")"
   ]
  },
  {
   "cell_type": "code",
   "execution_count": null,
   "id": "dad8227e-fdc9-4165-930f-2ebf28cf1580",
   "metadata": {},
   "outputs": [],
   "source": []
  }
 ],
 "metadata": {
  "kernelspec": {
   "display_name": "oldml_p37",
   "language": "python",
   "name": "oldml_p37"
  },
  "language_info": {
   "codemirror_mode": {
    "name": "ipython",
    "version": 3
   },
   "file_extension": ".py",
   "mimetype": "text/x-python",
   "name": "python",
   "nbconvert_exporter": "python",
   "pygments_lexer": "ipython3",
   "version": "3.7.10"
  }
 },
 "nbformat": 4,
 "nbformat_minor": 5
}
